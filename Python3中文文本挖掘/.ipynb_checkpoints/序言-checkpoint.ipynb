{
 "cells": [
  {
   "cell_type": "markdown",
   "metadata": {},
   "source": [
    "# Chapter00 序言"
   ]
  },
  {
   "cell_type": "markdown",
   "metadata": {},
   "source": [
    "## 中文文本挖掘综述"
   ]
  },
  {
   "cell_type": "markdown",
   "metadata": {},
   "source": [
    "文本挖掘（text mining）作为自然语言处理技术应用的一个关键领域，随着人工智能的发展，正在越来越受到重视。它综合应用NLP的各项方法和模型，对文本中的信息进行抽取、组合、分析，挖掘潜藏在文本中的话题、观点、情感等要素。中国是世界上网民数量最多的国家，汉语是世界上使用人数最多的语言，以新浪微博为代表的中文社交媒体每时每刻都在产生大量的文本数据和中文语料，这些文本蕴含着巨大的意义和价值。对诸如此类的文本进行收集和分析是十分有必要的，而一些基于用户情感分析的一些预测方法也确实正在企业的用户分析系统当中，发挥越来越重要的作用。本书将在学界和业界实践经验的基础上，探讨文本挖掘分析的一些常用方法和技术。"
   ]
  },
  {
   "cell_type": "markdown",
   "metadata": {},
   "source": [
    "## 常用工具概述"
   ]
  },
  {
   "cell_type": "markdown",
   "metadata": {},
   "source": [
    "### 编程语言\n",
    "本书将以**python3**为主语言进行讲述\n",
    "### 自然语言处理相关工具包\n",
    "- scikit-learn：基于python的强大机器学习库，包含了几乎所有常用的机器学习算法，可以直接方便地调用。\n",
    "- gensim：用于计算相似度，进行主题建模等很方便的库。\n",
    "- nltk：自然语言处理工具包，包含了许多pre-trained model及相关api，囊括了流行的词性标注、命名实体识别、语义分析等自然语言处理相关方法\n",
    "- jieba：最流行的中文分词工具包，近年来由中国清华、北大、中科大等高校开源的一些分词工具包也非常优秀，但尚未成为业内主流。\n",
    "- pyecharts：由百度开源的echarts可视化工具的python接口，由js渲染，非常炫酷，展示效果非常好。\n",
    "- MXNet：亚马逊大神李沐团队开发的深度学习处理框架。"
   ]
  },
  {
   "cell_type": "code",
   "execution_count": 5,
   "metadata": {},
   "outputs": [],
   "source": [
    "import sklearn\n",
    "import gensim\n",
    "import nltk\n",
    "import jieba\n",
    "import pyecharts\n",
    "import mxnet"
   ]
  }
 ],
 "metadata": {
  "kernelspec": {
   "display_name": "Python 3",
   "language": "python",
   "name": "python3"
  },
  "language_info": {
   "codemirror_mode": {
    "name": "ipython",
    "version": 3
   },
   "file_extension": ".py",
   "mimetype": "text/x-python",
   "name": "python",
   "nbconvert_exporter": "python",
   "pygments_lexer": "ipython3",
   "version": "3.7.3"
  },
  "latex_envs": {
   "LaTeX_envs_menu_present": true,
   "autoclose": false,
   "autocomplete": true,
   "bibliofile": "biblio.bib",
   "cite_by": "apalike",
   "current_citInitial": 1,
   "eqLabelWithNumbers": true,
   "eqNumInitial": 1,
   "hotkeys": {
    "equation": "Ctrl-E",
    "itemize": "Ctrl-I"
   },
   "labels_anchors": false,
   "latex_user_defs": false,
   "report_style_numbering": false,
   "user_envs_cfg": false
  },
  "varInspector": {
   "cols": {
    "lenName": 16,
    "lenType": 16,
    "lenVar": 40
   },
   "kernels_config": {
    "python": {
     "delete_cmd_postfix": "",
     "delete_cmd_prefix": "del ",
     "library": "var_list.py",
     "varRefreshCmd": "print(var_dic_list())"
    },
    "r": {
     "delete_cmd_postfix": ") ",
     "delete_cmd_prefix": "rm(",
     "library": "var_list.r",
     "varRefreshCmd": "cat(var_dic_list()) "
    }
   },
   "types_to_exclude": [
    "module",
    "function",
    "builtin_function_or_method",
    "instance",
    "_Feature"
   ],
   "window_display": false
  }
 },
 "nbformat": 4,
 "nbformat_minor": 2
}
